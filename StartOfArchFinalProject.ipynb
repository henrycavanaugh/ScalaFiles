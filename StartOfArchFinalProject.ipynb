{
 "cells": [
  {
   "cell_type": "code",
   "execution_count": 1,
   "metadata": {},
   "outputs": [
    {
     "data": {
      "text/plain": [
       "\u001b[32mimport \u001b[39m\u001b[36mscala.io.Source\n",
       "\u001b[39m\n",
       "\u001b[36mocreCex\u001b[39m: \u001b[32mString\u001b[39m = \u001b[32m\"https://raw.githubusercontent.com/neelsmith/nomisma/master/cex/ocre-cite-ids.cex\"\u001b[39m"
      ]
     },
     "execution_count": 1,
     "metadata": {},
     "output_type": "execute_result"
    }
   ],
   "source": [
    "import scala.io.Source\n",
    "val ocreCex = \"https://raw.githubusercontent.com/neelsmith/nomisma/master/cex/ocre-cite-ids.cex\""
   ]
  },
  {
   "cell_type": "code",
   "execution_count": 2,
   "metadata": {},
   "outputs": [
    {
     "data": {
      "text/plain": [
       "\u001b[36mlines\u001b[39m: \u001b[32mVector\u001b[39m[\u001b[32mString\u001b[39m] = \u001b[33mVector\u001b[39m(\n",
       "  \u001b[32m\"ID#Label#Denomination#Metal#Authority#Mint#Region#ObvType#ObvLegend#ObvPortraitId#RevType#RevLegend#RevPortraitId#StartDate#EndDate\"\u001b[39m,\n",
       "  \u001b[32m\"3.com.43#RIC III Commodus 43#denarius#ar#commodus#rome#italy#Head of Commodus, laureate, right#M COMMODVS ANTONINVS AVG#http://nomisma.org/id/commodus#Roma, helmeted, draped, standing left, holding Victory in extended right hand and vertical spear in left hand#TR P VII IMP V COS III P P#http://collection.britishmuseum.org/id/person-institution/60208#182#182\"\u001b[39m,\n",
       "  \u001b[32m\"9.thes.27B.iii#RIC IX Thessalonica 27B: Subtype iii#ae3#ae#valentinian_i#thessalonica#macedonia#Bust of Valens, pearl-diademed, draped and cuirassed, right#D N VALEN-S P F AVG#http://nomisma.org/id/valens#Victory advancing left, holding wreath and palm#SECVRITAS-REIPVBLICAE#http://collection.britishmuseum.org/id/person-institution/60915#367#375\"\u001b[39m,\n",
       "  \u001b[32m\"9.thes.27B.ii#RIC IX Thessalonica 27B: Subtype ii#ae3#ae#valentinian_i#thessalonica#macedonia#Bust of Valens, pearl-diademed, draped and cuirassed, right#D N VALEN-S P F AVG#http://nomisma.org/id/valens#Victory advancing left, holding wreath and palm#SECVRITAS-REIPVBLICAE#http://collection.britishmuseum.org/id/person-institution/60915#367#375\"\u001b[39m,\n",
       "  \u001b[32m\"4.sa.26d#RIC IV Severus Alexander 26d#aureus#av#severus_alexander#rome#italy#Bust of Severus Alexander, larueate, draped, cuirassed, right#IMP C M AVR SEV ALEXAND AVG#http://nomisma.org/id/severus_alexander#Pax, draped, standing left, holding olive branch in right hand and sceptre in left hand#P M TR P II COS P P#http://collection.britishmuseum.org/id/person-institution/76227#223#223\"\u001b[39m,\n",
       "  \u001b[32m\"9.thes.18A.xxv#RIC IX Thessalonica 18A: Subtype xxv#ae3#ae#valentinian_i#thessalonica#macedonia#Bust of Valentinian I, pearl-diademed, draped and cuirassed, right#D N VALENTINI-ANVS P F AVG#http://nomisma.org/id/valentinian_i#Victory advancing left, holding wreath and palm#SECVRITAS-REIPVBLICAE#http://collection.britishmuseum.org/id/person-institution/60915#364#367\"\u001b[39m,\n",
       "  \u001b[32m\"6.rom.327b#RIC VI Rome 327b#ae2#ae#constantine_i#rome#italy#Bust of Maximinus Daia, laureate, draped, right, seen from behind#IMP MAXIMINVS P F AVG#http://nomisma.org/id/maximinus_daia#Sol, chlamys hanging behind, standing left, raising right hand and holding globe close to body in left hand#SOLI INVIC-TO COMITI#http://collection.britishmuseum.org/id/person-institution/58616#312#313\"\u001b[39m,\n",
       "  \u001b[32m\"6.rom.325#RIC VI Rome 325#ae2#ae#constantine_i#rome#italy#Bust of Constantine I, laureate, cuirassed, right#IMP C CONSTANTINVS P F AVG#http://nomisma.org/id/constantine_i#Sol, chlamys hanging behind, standing left, raising right hand and holding globe close to body in left hand#SOLI INVIC-TO COMITI#http://collection.britishmuseum.org/id/person-institution/58616#312#313\"\u001b[39m,\n",
       "  \u001b[32m\"6.rom.323c#RIC VI Rome 323c#ae2#ae#constantine_i#rome#italy#Bust of Licinius,\u001b[39m..."
      ]
     },
     "execution_count": 2,
     "metadata": {},
     "output_type": "execute_result"
    }
   ],
   "source": [
    "val lines = Source.fromURL(ocreCex).getLines.toVector"
   ]
  },
  {
   "cell_type": "code",
   "execution_count": 4,
   "metadata": {},
   "outputs": [
    {
     "data": {
      "text/plain": [
       "\u001b[36mdata\u001b[39m: \u001b[32mVector\u001b[39m[\u001b[32mVector\u001b[39m[\u001b[32mString\u001b[39m]] = \u001b[33mVector\u001b[39m(\n",
       "  \u001b[33mVector\u001b[39m(\n",
       "    \u001b[32m\"3.com.43\"\u001b[39m,\n",
       "    \u001b[32m\"RIC III Commodus 43\"\u001b[39m,\n",
       "    \u001b[32m\"denarius\"\u001b[39m,\n",
       "    \u001b[32m\"ar\"\u001b[39m,\n",
       "    \u001b[32m\"commodus\"\u001b[39m,\n",
       "    \u001b[32m\"rome\"\u001b[39m,\n",
       "    \u001b[32m\"italy\"\u001b[39m,\n",
       "    \u001b[32m\"Head of Commodus, laureate, right\"\u001b[39m,\n",
       "    \u001b[32m\"M COMMODVS ANTONINVS AVG\"\u001b[39m,\n",
       "    \u001b[32m\"http://nomisma.org/id/commodus\"\u001b[39m,\n",
       "    \u001b[32m\"Roma, helmeted, draped, standing left, holding Victory in extended right hand and vertical spear in left hand\"\u001b[39m,\n",
       "    \u001b[32m\"TR P VII IMP V COS III P P\"\u001b[39m,\n",
       "    \u001b[32m\"http://collection.britishmuseum.org/id/person-institution/60208\"\u001b[39m,\n",
       "    \u001b[32m\"182\"\u001b[39m,\n",
       "    \u001b[32m\"182\"\u001b[39m\n",
       "  ),\n",
       "  \u001b[33mVector\u001b[39m(\n",
       "    \u001b[32m\"9.thes.27B.iii\"\u001b[39m,\n",
       "    \u001b[32m\"RIC IX Thessalonica 27B: Subtype iii\"\u001b[39m,\n",
       "    \u001b[32m\"ae3\"\u001b[39m,\n",
       "    \u001b[32m\"ae\"\u001b[39m,\n",
       "    \u001b[32m\"valentinian_i\"\u001b[39m,\n",
       "    \u001b[32m\"thessalonica\"\u001b[39m,\n",
       "    \u001b[32m\"macedonia\"\u001b[39m,\n",
       "    \u001b[32m\"Bust of Valens, pearl-diademed, draped and cuirassed, right\"\u001b[39m,\n",
       "    \u001b[32m\"D N VALEN-S P F AVG\"\u001b[39m,\n",
       "    \u001b[32m\"http://nomisma.org/id/valens\"\u001b[39m,\n",
       "    \u001b[32m\"Victory advancing left, holding wreath and palm\"\u001b[39m,\n",
       "    \u001b[32m\"SECVRITAS-REIPVBLICAE\"\u001b[39m,\n",
       "    \u001b[32m\"http://collection.britishmuseum.org/id/person-institution/60915\"\u001b[39m,\n",
       "    \u001b[32m\"367\"\u001b[39m,\n",
       "    \u001b[32m\"375\"\u001b[39m\n",
       "  ),\n",
       "  \u001b[33mVector\u001b[39m(\n",
       "    \u001b[32m\"9.thes.27B.ii\"\u001b[39m,\n",
       "    \u001b[32m\"RIC IX Thessalonica 27B: Subtype ii\"\u001b[39m,\n",
       "..."
      ]
     },
     "execution_count": 4,
     "metadata": {},
     "output_type": "execute_result"
    }
   ],
   "source": [
    "val data = lines.tail.map(ln => ln.split(\"#\").toVector)"
   ]
  },
  {
   "cell_type": "code",
   "execution_count": 6,
   "metadata": {},
   "outputs": [
    {
     "data": {
      "text/plain": [
       "\u001b[36mAuthorities\u001b[39m: \u001b[32mVector\u001b[39m[\u001b[32mString\u001b[39m] = \u001b[33mVector\u001b[39m(\n",
       "  \u001b[32m\"commodus\"\u001b[39m,\n",
       "  \u001b[32m\"valentinian_i\"\u001b[39m,\n",
       "  \u001b[32m\"valentinian_i\"\u001b[39m,\n",
       "  \u001b[32m\"severus_alexander\"\u001b[39m,\n",
       "  \u001b[32m\"valentinian_i\"\u001b[39m,\n",
       "  \u001b[32m\"constantine_i\"\u001b[39m,\n",
       "  \u001b[32m\"constantine_i\"\u001b[39m,\n",
       "  \u001b[32m\"constantine_i\"\u001b[39m,\n",
       "  \u001b[32m\"constantine_i\"\u001b[39m,\n",
       "  \u001b[32m\"constantine_i\"\u001b[39m,\n",
       "  \u001b[32m\"constantine_i\"\u001b[39m,\n",
       "  \u001b[32m\"constantine_i\"\u001b[39m,\n",
       "  \u001b[32m\"valerian\"\u001b[39m,\n",
       "  \u001b[32m\"constantine_i\"\u001b[39m,\n",
       "  \u001b[32m\"constantine_i\"\u001b[39m,\n",
       "  \u001b[32m\"constantine_i\"\u001b[39m,\n",
       "  \u001b[32m\"constantine_i\"\u001b[39m,\n",
       "  \u001b[32m\"trajan_decius\"\u001b[39m,\n",
       "  \u001b[32m\"constantine_i\"\u001b[39m,\n",
       "  \u001b[32m\"constantine_i\"\u001b[39m,\n",
       "  \u001b[32m\"constantine_i\"\u001b[39m,\n",
       "  \u001b[32m\"constantine_i\"\u001b[39m,\n",
       "  \u001b[32m\"constantine_i\"\u001b[39m,\n",
       "  \u001b[32m\"maxentius\"\u001b[39m,\n",
       "  \u001b[32m\"maxentius\"\u001b[39m,\n",
       "  \u001b[32m\"maxentius\"\u001b[39m,\n",
       "  \u001b[32m\"maxentius\"\u001b[39m,\n",
       "  \u001b[32m\"maxentius\"\u001b[39m,\n",
       "  \u001b[32m\"maxentius\"\u001b[39m,\n",
       "  \u001b[32m\"maxentius\"\u001b[39m,\n",
       "  \u001b[32m\"maxentius\"\u001b[39m,\n",
       "  \u001b[32m\"maxentius\"\u001b[39m,\n",
       "  \u001b[32m\"maxentius\"\u001b[39m,\n",
       "  \u001b[32m\"maxentius\"\u001b[39m,\n",
       "  \u001b[32m\"maxentius\"\u001b[39m,\n",
       "  \u001b[32m\"maxentius\"\u001b[39m,\n",
       "  \u001b[32m\"maxentius\"\u001b[39m,\n",
       "  \u001b[32m\"maxentius\"\u001b[39m,\n",
       "..."
      ]
     },
     "execution_count": 6,
     "metadata": {},
     "output_type": "execute_result"
    }
   ],
   "source": [
    "val Authorities = data.map(columns => columns(4))"
   ]
  },
  {
   "cell_type": "code",
   "execution_count": 9,
   "metadata": {},
   "outputs": [
    {
     "data": {
      "text/plain": [
       "\u001b[36mAuthoritiesGrouped\u001b[39m: \u001b[32mMap\u001b[39m[\u001b[32mString\u001b[39m, \u001b[32mVector\u001b[39m[\u001b[32mString\u001b[39m]] = \u001b[33mMap\u001b[39m(\n",
       "  \u001b[32m\"quietus\"\u001b[39m -> \u001b[33mVector\u001b[39m(\n",
       "    \u001b[32m\"quietus\"\u001b[39m,\n",
       "    \u001b[32m\"quietus\"\u001b[39m,\n",
       "    \u001b[32m\"quietus\"\u001b[39m,\n",
       "    \u001b[32m\"quietus\"\u001b[39m,\n",
       "    \u001b[32m\"quietus\"\u001b[39m,\n",
       "    \u001b[32m\"quietus\"\u001b[39m,\n",
       "    \u001b[32m\"quietus\"\u001b[39m,\n",
       "    \u001b[32m\"quietus\"\u001b[39m,\n",
       "    \u001b[32m\"quietus\"\u001b[39m,\n",
       "    \u001b[32m\"quietus\"\u001b[39m,\n",
       "    \u001b[32m\"quietus\"\u001b[39m,\n",
       "    \u001b[32m\"quietus\"\u001b[39m,\n",
       "    \u001b[32m\"quietus\"\u001b[39m\n",
       "  ),\n",
       "  \u001b[32m\"zenobia\"\u001b[39m -> \u001b[33mVector\u001b[39m(\u001b[32m\"zenobia\"\u001b[39m, \u001b[32m\"zenobia\"\u001b[39m),\n",
       "  \u001b[32m\"maximus_barcelona\"\u001b[39m -> \u001b[33mVector\u001b[39m(\n",
       "    \u001b[32m\"maximus_barcelona\"\u001b[39m,\n",
       "    \u001b[32m\"maximus_barcelona\"\u001b[39m,\n",
       "    \u001b[32m\"maximus_barcelona\"\u001b[39m,\n",
       "    \u001b[32m\"maximus_barcelona\"\u001b[39m\n",
       "  ),\n",
       "  \u001b[32m\"trebonianus_gallus\"\u001b[39m -> \u001b[33mVector\u001b[39m(\n",
       "    \u001b[32m\"trebonianus_gallus\"\u001b[39m,\n",
       "    \u001b[32m\"trebonianus_gallus\"\u001b[39m,\n",
       "    \u001b[32m\"trebonianus_gallus\"\u001b[39m,\n",
       "    \u001b[32m\"trebonianus_gallus\"\u001b[39m,\n",
       "    \u001b[32m\"trebonianus_gallus\"\u001b[39m,\n",
       "    \u001b[32m\"trebonianus_gallus\"\u001b[39m,\n",
       "    \u001b[32m\"trebonianus_gallus\"\u001b[39m,\n",
       "    \u001b[32m\"trebonianus_gallus\"\u001b[39m,\n",
       "    \u001b[32m\"trebonianus_gallus\"\u001b[39m,\n",
       "    \u001b[32m\"trebonianus_gallus\"\u001b[39m,\n",
       "    \u001b[32m\"trebonianus_gallus\"\u001b[39m,\n",
       "    \u001b[32m\"trebonianus_gallus\"\u001b[39m,\n",
       "    \u001b[32m\"trebonianus_gallus\"\u001b[39m,\n",
       "    \u001b[32m\"trebonianus_gallus\"\u001b[39m,\n",
       "    \u001b[32m\"trebonianus_gallus\"\u001b[39m,\n",
       "..."
      ]
     },
     "execution_count": 9,
     "metadata": {},
     "output_type": "execute_result"
    }
   ],
   "source": [
    "val AuthoritiesGrouped = Authorities.groupBy(auth => auth)"
   ]
  },
  {
   "cell_type": "code",
   "execution_count": 11,
   "metadata": {},
   "outputs": [
    {
     "data": {
      "text/plain": [
       "\u001b[36mAuthoritiesCounts\u001b[39m: \u001b[32mMap\u001b[39m[\u001b[32mString\u001b[39m, \u001b[32mInt\u001b[39m] = \u001b[33mMap\u001b[39m(\n",
       "  \u001b[32m\"quietus\"\u001b[39m -> \u001b[32m13\u001b[39m,\n",
       "  \u001b[32m\"zenobia\"\u001b[39m -> \u001b[32m2\u001b[39m,\n",
       "  \u001b[32m\"maximus_barcelona\"\u001b[39m -> \u001b[32m4\u001b[39m,\n",
       "  \u001b[32m\"trebonianus_gallus\"\u001b[39m -> \u001b[32m307\u001b[39m,\n",
       "  \u001b[32m\"carausius\"\u001b[39m -> \u001b[32m1146\u001b[39m,\n",
       "  \u001b[32m\"tetricus_i\"\u001b[39m -> \u001b[32m295\u001b[39m,\n",
       "  \u001b[32m\"postumus\"\u001b[39m -> \u001b[32m392\u001b[39m,\n",
       "  \u001b[32m\"macrianus_minor\"\u001b[39m -> \u001b[32m13\u001b[39m,\n",
       "  \u001b[32m\"anthemius\"\u001b[39m -> \u001b[32m107\u001b[39m,\n",
       "  \u001b[32m\"magnus_maximus\"\u001b[39m -> \u001b[32m110\u001b[39m,\n",
       "  \u001b[32m\"otho\"\u001b[39m -> \u001b[32m24\u001b[39m,\n",
       "  \u001b[32m\"pertinax\"\u001b[39m -> \u001b[32m71\u001b[39m,\n",
       "  \u001b[32m\"basiliscus\"\u001b[39m -> \u001b[32m50\u001b[39m,\n",
       "  \u001b[32m\"elagabalus\"\u001b[39m -> \u001b[32m550\u001b[39m,\n",
       "  \u001b[32m\"theodosius_ii\"\u001b[39m -> \u001b[32m275\u001b[39m,\n",
       "  \u001b[32m\"constantine_i\"\u001b[39m -> \u001b[32m4096\u001b[39m,\n",
       "  \u001b[32m\"numerian\"\u001b[39m -> \u001b[32m90\u001b[39m,\n",
       "  \u001b[32m\"domitius_alexander\"\u001b[39m -> \u001b[32m15\u001b[39m,\n",
       "  \u001b[32m\"quintillus\"\u001b[39m -> \u001b[32m100\u001b[39m,\n",
       "  \u001b[32m\"tacitus\"\u001b[39m -> \u001b[32m214\u001b[39m,\n",
       "  \u001b[32m\"anonymous\"\u001b[39m -> \u001b[32m184\u001b[39m,\n",
       "  \u001b[32m\"vespasian\"\u001b[39m -> \u001b[32m1588\u001b[39m,\n",
       "  \u001b[32m\"sponsianus\"\u001b[39m -> \u001b[32m1\u001b[39m,\n",
       "  \u001b[32m\"jovianus\"\u001b[39m -> \u001b[32m98\u001b[39m,\n",
       "  \u001b[32m\"probus\"\u001b[39m -> \u001b[32m953\u001b[39m,\n",
       "  \u001b[32m\"valentinian_ii\"\u001b[39m -> \u001b[32m824\u001b[39m,\n",
       "  \u001b[32m\"severus_alexander\"\u001b[39m -> \u001b[32m942\u001b[39m,\n",
       "  \u001b[32m\"saturninus\"\u001b[39m -> \u001b[32m1\u001b[39m,\n",
       "  \u001b[32m\"romulus_augustulus\"\u001b[39m -> \u001b[32m22\u001b[39m,\n",
       "  \u001b[32m\"trajan_decius\"\u001b[39m -> \u001b[32m531\u001b[39m,\n",
       "  \u001b[32m\"gordian_i\"\u001b[39m -> \u001b[32m16\u001b[39m,\n",
       "  \u001b[32m\"clodius_macer\"\u001b[39m -> \u001b[32m42\u001b[39m,\n",
       "  \u001b[32m\"constantine_iii\"\u001b[39m -> \u001b[32m46\u001b[39m,\n",
       "  \u001b[32m\"domitian_ii\"\u001b[39m -> \u001b[32m1\u001b[39m,\n",
       "  \u001b[32m\"carinus\"\u001b[39m -> \u001b[32m145\u001b[39m,\n",
       "  \u001b[32m\"jotapianus\"\u001b[39m -> \u001b[32m5\u001b[39m,\n",
       "  \u001b[32m\"hadrian\"\u001b[39m -> \u001b[32m2434\u001b[39m,\n",
       "  \u001b[32m\"vitellius\"\u001b[39m -> \u001b[32m177\u001b[39m,\n",
       "..."
      ]
     },
     "execution_count": 11,
     "metadata": {},
     "output_type": "execute_result"
    }
   ],
   "source": [
    "val AuthoritiesCounts = AuthoritiesGrouped.map{ case (a, v) => (a, v.size) }"
   ]
  },
  {
   "cell_type": "code",
   "execution_count": 12,
   "metadata": {},
   "outputs": [
    {
     "data": {
      "text/plain": [
       "\u001b[36mAuthoritiesHisto\u001b[39m: \u001b[32mVector\u001b[39m[(\u001b[32mString\u001b[39m, \u001b[32mInt\u001b[39m)] = \u001b[33mVector\u001b[39m(\n",
       "  (\u001b[32m\"constantine_i\"\u001b[39m, \u001b[32m4096\u001b[39m),\n",
       "  (\u001b[32m\"gallienus\"\u001b[39m, \u001b[32m3434\u001b[39m),\n",
       "  (\u001b[32m\"hadrian\"\u001b[39m, \u001b[32m2434\u001b[39m),\n",
       "  (\u001b[32m\"antoninus_pius\"\u001b[39m, \u001b[32m2381\u001b[39m),\n",
       "  (\u001b[32m\"maximian\"\u001b[39m, \u001b[32m2326\u001b[39m),\n",
       "  (\u001b[32m\"septimius_severus\"\u001b[39m, \u001b[32m2170\u001b[39m),\n",
       "  (\u001b[32m\"marcus_aurelius\"\u001b[39m, \u001b[32m1819\u001b[39m),\n",
       "  (\u001b[32m\"constantius_ii\"\u001b[39m, \u001b[32m1617\u001b[39m),\n",
       "  (\u001b[32m\"valerian\"\u001b[39m, \u001b[32m1597\u001b[39m),\n",
       "  (\u001b[32m\"vespasian\"\u001b[39m, \u001b[32m1588\u001b[39m),\n",
       "  (\u001b[32m\"valentinian_i\"\u001b[39m, \u001b[32m1417\u001b[39m),\n",
       "  (\u001b[32m\"theodosius_i\"\u001b[39m, \u001b[32m1176\u001b[39m),\n",
       "  (\u001b[32m\"carausius\"\u001b[39m, \u001b[32m1146\u001b[39m),\n",
       "  (\u001b[32m\"probus\"\u001b[39m, \u001b[32m953\u001b[39m),\n",
       "  (\u001b[32m\"commodus\"\u001b[39m, \u001b[32m945\u001b[39m),\n",
       "  (\u001b[32m\"trajan\"\u001b[39m, \u001b[32m942\u001b[39m),\n",
       "  (\u001b[32m\"severus_alexander\"\u001b[39m, \u001b[32m942\u001b[39m),\n",
       "  (\u001b[32m\"domitian\"\u001b[39m, \u001b[32m859\u001b[39m),\n",
       "  (\u001b[32m\"valens\"\u001b[39m, \u001b[32m847\u001b[39m),\n",
       "  (\u001b[32m\"valentinian_ii\"\u001b[39m, \u001b[32m824\u001b[39m),\n",
       "  (\u001b[32m\"constans\"\u001b[39m, \u001b[32m666\u001b[39m),\n",
       "  (\u001b[32m\"augustus\"\u001b[39m, \u001b[32m629\u001b[39m),\n",
       "  (\u001b[32m\"nero\"\u001b[39m, \u001b[32m622\u001b[39m),\n",
       "  (\u001b[32m\"licinius\"\u001b[39m, \u001b[32m580\u001b[39m),\n",
       "  (\u001b[32m\"gordian_iii\"\u001b[39m, \u001b[32m552\u001b[39m),\n",
       "  (\u001b[32m\"philip_the_arab\"\u001b[39m, \u001b[32m551\u001b[39m),\n",
       "  (\u001b[32m\"elagabalus\"\u001b[39m, \u001b[32m550\u001b[39m),\n",
       "  (\u001b[32m\"titus\"\u001b[39m, \u001b[32m543\u001b[39m),\n",
       "  (\u001b[32m\"trajan_decius\"\u001b[39m, \u001b[32m531\u001b[39m),\n",
       "  (\u001b[32m\"caracalla\"\u001b[39m, \u001b[32m529\u001b[39m),\n",
       "  (\u001b[32m\"aurelian\"\u001b[39m, \u001b[32m525\u001b[39m),\n",
       "  (\u001b[32m\"galba\"\u001b[39m, \u001b[32m522\u001b[39m),\n",
       "  (\u001b[32m\"constantine_ii\"\u001b[39m, \u001b[32m450\u001b[39m),\n",
       "  (\u001b[32m\"gratian\"\u001b[39m, \u001b[32m437\u001b[39m),\n",
       "  (\u001b[32m\"magnentius\"\u001b[39m, \u001b[32m425\u001b[39m),\n",
       "  (\u001b[32m\"diocletian\"\u001b[39m, \u001b[32m405\u001b[39m),\n",
       "  (\u001b[32m\"postumus\"\u001b[39m, \u001b[32m392\u001b[39m),\n",
       "  (\u001b[32m\"maximinus_daia\"\u001b[39m, \u001b[32m380\u001b[39m),\n",
       "..."
      ]
     },
     "execution_count": 12,
     "metadata": {},
     "output_type": "execute_result"
    }
   ],
   "source": [
    "val AuthoritiesHisto = AuthoritiesCounts.toVector.sortBy(frequency => frequency._2).reverse"
   ]
  },
  {
   "cell_type": "code",
   "execution_count": 15,
   "metadata": {},
   "outputs": [
    {
     "data": {
      "text/plain": [
       "\u001b[36mcutOff\u001b[39m: \u001b[32mInt\u001b[39m = \u001b[32m500\u001b[39m\n",
       "\u001b[36mFiveHundredClub\u001b[39m: \u001b[32mVector\u001b[39m[(\u001b[32mString\u001b[39m, \u001b[32mInt\u001b[39m)] = \u001b[33mVector\u001b[39m(\n",
       "  (\u001b[32m\"constantine_i\"\u001b[39m, \u001b[32m4096\u001b[39m),\n",
       "  (\u001b[32m\"gallienus\"\u001b[39m, \u001b[32m3434\u001b[39m),\n",
       "  (\u001b[32m\"hadrian\"\u001b[39m, \u001b[32m2434\u001b[39m),\n",
       "  (\u001b[32m\"antoninus_pius\"\u001b[39m, \u001b[32m2381\u001b[39m),\n",
       "  (\u001b[32m\"maximian\"\u001b[39m, \u001b[32m2326\u001b[39m),\n",
       "  (\u001b[32m\"septimius_severus\"\u001b[39m, \u001b[32m2170\u001b[39m),\n",
       "  (\u001b[32m\"marcus_aurelius\"\u001b[39m, \u001b[32m1819\u001b[39m),\n",
       "  (\u001b[32m\"constantius_ii\"\u001b[39m, \u001b[32m1617\u001b[39m),\n",
       "  (\u001b[32m\"valerian\"\u001b[39m, \u001b[32m1597\u001b[39m),\n",
       "  (\u001b[32m\"vespasian\"\u001b[39m, \u001b[32m1588\u001b[39m),\n",
       "  (\u001b[32m\"valentinian_i\"\u001b[39m, \u001b[32m1417\u001b[39m),\n",
       "  (\u001b[32m\"theodosius_i\"\u001b[39m, \u001b[32m1176\u001b[39m),\n",
       "  (\u001b[32m\"carausius\"\u001b[39m, \u001b[32m1146\u001b[39m),\n",
       "  (\u001b[32m\"probus\"\u001b[39m, \u001b[32m953\u001b[39m),\n",
       "  (\u001b[32m\"commodus\"\u001b[39m, \u001b[32m945\u001b[39m),\n",
       "  (\u001b[32m\"trajan\"\u001b[39m, \u001b[32m942\u001b[39m),\n",
       "  (\u001b[32m\"severus_alexander\"\u001b[39m, \u001b[32m942\u001b[39m),\n",
       "  (\u001b[32m\"domitian\"\u001b[39m, \u001b[32m859\u001b[39m),\n",
       "  (\u001b[32m\"valens\"\u001b[39m, \u001b[32m847\u001b[39m),\n",
       "  (\u001b[32m\"valentinian_ii\"\u001b[39m, \u001b[32m824\u001b[39m),\n",
       "  (\u001b[32m\"constans\"\u001b[39m, \u001b[32m666\u001b[39m),\n",
       "  (\u001b[32m\"augustus\"\u001b[39m, \u001b[32m629\u001b[39m),\n",
       "  (\u001b[32m\"nero\"\u001b[39m, \u001b[32m622\u001b[39m),\n",
       "  (\u001b[32m\"licinius\"\u001b[39m, \u001b[32m580\u001b[39m),\n",
       "  (\u001b[32m\"gordian_iii\"\u001b[39m, \u001b[32m552\u001b[39m),\n",
       "  (\u001b[32m\"philip_the_arab\"\u001b[39m, \u001b[32m551\u001b[39m),\n",
       "  (\u001b[32m\"elagabalus\"\u001b[39m, \u001b[32m550\u001b[39m),\n",
       "  (\u001b[32m\"titus\"\u001b[39m, \u001b[32m543\u001b[39m),\n",
       "  (\u001b[32m\"trajan_decius\"\u001b[39m, \u001b[32m531\u001b[39m),\n",
       "  (\u001b[32m\"caracalla\"\u001b[39m, \u001b[32m529\u001b[39m),\n",
       "  (\u001b[32m\"aurelian\"\u001b[39m, \u001b[32m525\u001b[39m),\n",
       "  (\u001b[32m\"galba\"\u001b[39m, \u001b[32m522\u001b[39m)\n",
       ")"
      ]
     },
     "execution_count": 15,
     "metadata": {},
     "output_type": "execute_result"
    }
   ],
   "source": [
    "val cutOff = 500 \n",
    "val FiveHundredClub = AuthoritiesHisto.filter(frequency => frequency._2 > cutOff)"
   ]
  },
  {
   "cell_type": "code",
   "execution_count": null,
   "metadata": {},
   "outputs": [],
   "source": []
  }
 ],
 "metadata": {
  "kernelspec": {
   "display_name": "Scala (2.12)",
   "language": "scala",
   "name": "scala212"
  },
  "language_info": {
   "codemirror_mode": "text/x-scala",
   "file_extension": ".scala",
   "mimetype": "text/x-scala",
   "name": "scala",
   "nbconvert_exporter": "script",
   "version": "2.12.10"
  }
 },
 "nbformat": 4,
 "nbformat_minor": 4
}
